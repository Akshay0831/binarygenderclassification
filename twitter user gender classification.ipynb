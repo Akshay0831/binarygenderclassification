{
 "cells": [
  {
   "cell_type": "markdown",
   "id": "15c835e7",
   "metadata": {},
   "source": [
    "# Twitter User Gender Classification\n",
    "\n",
    "Please note the column **gender** will be the target feature in the dataset provided.\n",
    "* Perform the required cleaning.\n",
    "* Perform EDA to understand data better.\n",
    "* Perform Feature selection/engineering/scaling (if required).\n",
    "* Build a neural network using Sklearn and/or tensorflow."
   ]
  },
  {
   "cell_type": "code",
   "execution_count": 1,
   "id": "09a67715",
   "metadata": {},
   "outputs": [],
   "source": [
    "import pandas as pd\n",
    "import numpy as np\n",
    "\n",
    "from imblearn.under_sampling import RandomUnderSampler\n",
    "\n",
    "from sklearn import preprocessing\n",
    "from sklearn.model_selection import train_test_split\n",
    "from sklearn.neural_network import MLPClassifier\n",
    "from sklearn.metrics import accuracy_score\n",
    "\n",
    "from tensorflow import keras\n",
    "from tensorflow.keras.layers import Input, Dense, Activation\n",
    "\n",
    "df = pd.read_csv('gender-classifier-DFE-791531.csv')"
   ]
  },
  {
   "cell_type": "code",
   "execution_count": 2,
   "id": "40d8de71",
   "metadata": {},
   "outputs": [
    {
     "data": {
      "text/plain": [
       "(20050, 26)"
      ]
     },
     "execution_count": 2,
     "metadata": {},
     "output_type": "execute_result"
    }
   ],
   "source": [
    "df.shape"
   ]
  },
  {
   "cell_type": "code",
   "execution_count": 3,
   "id": "26aff3f5",
   "metadata": {},
   "outputs": [
    {
     "data": {
      "text/html": [
       "<div>\n",
       "<style scoped>\n",
       "    .dataframe tbody tr th:only-of-type {\n",
       "        vertical-align: middle;\n",
       "    }\n",
       "\n",
       "    .dataframe tbody tr th {\n",
       "        vertical-align: top;\n",
       "    }\n",
       "\n",
       "    .dataframe thead th {\n",
       "        text-align: right;\n",
       "    }\n",
       "</style>\n",
       "<table border=\"1\" class=\"dataframe\">\n",
       "  <thead>\n",
       "    <tr style=\"text-align: right;\">\n",
       "      <th></th>\n",
       "      <th>_unit_id</th>\n",
       "      <th>_golden</th>\n",
       "      <th>_unit_state</th>\n",
       "      <th>_trusted_judgments</th>\n",
       "      <th>_last_judgment_at</th>\n",
       "      <th>gender</th>\n",
       "      <th>gender:confidence</th>\n",
       "      <th>profile_yn</th>\n",
       "      <th>profile_yn:confidence</th>\n",
       "      <th>created</th>\n",
       "      <th>...</th>\n",
       "      <th>profileimage</th>\n",
       "      <th>retweet_count</th>\n",
       "      <th>sidebar_color</th>\n",
       "      <th>text</th>\n",
       "      <th>tweet_coord</th>\n",
       "      <th>tweet_count</th>\n",
       "      <th>tweet_created</th>\n",
       "      <th>tweet_id</th>\n",
       "      <th>tweet_location</th>\n",
       "      <th>user_timezone</th>\n",
       "    </tr>\n",
       "  </thead>\n",
       "  <tbody>\n",
       "    <tr>\n",
       "      <th>0</th>\n",
       "      <td>815719226</td>\n",
       "      <td>False</td>\n",
       "      <td>finalized</td>\n",
       "      <td>3</td>\n",
       "      <td>10/26/15 23:24</td>\n",
       "      <td>male</td>\n",
       "      <td>1.0000</td>\n",
       "      <td>yes</td>\n",
       "      <td>1.0</td>\n",
       "      <td>12/5/13 1:48</td>\n",
       "      <td>...</td>\n",
       "      <td>https://pbs.twimg.com/profile_images/414342229...</td>\n",
       "      <td>0</td>\n",
       "      <td>FFFFFF</td>\n",
       "      <td>Robbie E Responds To Critics After Win Against...</td>\n",
       "      <td>NaN</td>\n",
       "      <td>110964</td>\n",
       "      <td>10/26/15 12:40</td>\n",
       "      <td>6.587300e+17</td>\n",
       "      <td>main; @Kan1shk3</td>\n",
       "      <td>Chennai</td>\n",
       "    </tr>\n",
       "    <tr>\n",
       "      <th>1</th>\n",
       "      <td>815719227</td>\n",
       "      <td>False</td>\n",
       "      <td>finalized</td>\n",
       "      <td>3</td>\n",
       "      <td>10/26/15 23:30</td>\n",
       "      <td>male</td>\n",
       "      <td>1.0000</td>\n",
       "      <td>yes</td>\n",
       "      <td>1.0</td>\n",
       "      <td>10/1/12 13:51</td>\n",
       "      <td>...</td>\n",
       "      <td>https://pbs.twimg.com/profile_images/539604221...</td>\n",
       "      <td>0</td>\n",
       "      <td>C0DEED</td>\n",
       "      <td>���It felt like they were my friends and I was...</td>\n",
       "      <td>NaN</td>\n",
       "      <td>7471</td>\n",
       "      <td>10/26/15 12:40</td>\n",
       "      <td>6.587300e+17</td>\n",
       "      <td>NaN</td>\n",
       "      <td>Eastern Time (US &amp; Canada)</td>\n",
       "    </tr>\n",
       "    <tr>\n",
       "      <th>2</th>\n",
       "      <td>815719228</td>\n",
       "      <td>False</td>\n",
       "      <td>finalized</td>\n",
       "      <td>3</td>\n",
       "      <td>10/26/15 23:33</td>\n",
       "      <td>male</td>\n",
       "      <td>0.6625</td>\n",
       "      <td>yes</td>\n",
       "      <td>1.0</td>\n",
       "      <td>11/28/14 11:30</td>\n",
       "      <td>...</td>\n",
       "      <td>https://pbs.twimg.com/profile_images/657330418...</td>\n",
       "      <td>1</td>\n",
       "      <td>C0DEED</td>\n",
       "      <td>i absolutely adore when louis starts the songs...</td>\n",
       "      <td>NaN</td>\n",
       "      <td>5617</td>\n",
       "      <td>10/26/15 12:40</td>\n",
       "      <td>6.587300e+17</td>\n",
       "      <td>clcncl</td>\n",
       "      <td>Belgrade</td>\n",
       "    </tr>\n",
       "    <tr>\n",
       "      <th>3</th>\n",
       "      <td>815719229</td>\n",
       "      <td>False</td>\n",
       "      <td>finalized</td>\n",
       "      <td>3</td>\n",
       "      <td>10/26/15 23:10</td>\n",
       "      <td>male</td>\n",
       "      <td>1.0000</td>\n",
       "      <td>yes</td>\n",
       "      <td>1.0</td>\n",
       "      <td>6/11/09 22:39</td>\n",
       "      <td>...</td>\n",
       "      <td>https://pbs.twimg.com/profile_images/259703936...</td>\n",
       "      <td>0</td>\n",
       "      <td>C0DEED</td>\n",
       "      <td>Hi @JordanSpieth - Looking at the url - do you...</td>\n",
       "      <td>NaN</td>\n",
       "      <td>1693</td>\n",
       "      <td>10/26/15 12:40</td>\n",
       "      <td>6.587300e+17</td>\n",
       "      <td>Palo Alto, CA</td>\n",
       "      <td>Pacific Time (US &amp; Canada)</td>\n",
       "    </tr>\n",
       "    <tr>\n",
       "      <th>4</th>\n",
       "      <td>815719230</td>\n",
       "      <td>False</td>\n",
       "      <td>finalized</td>\n",
       "      <td>3</td>\n",
       "      <td>10/27/15 1:15</td>\n",
       "      <td>female</td>\n",
       "      <td>1.0000</td>\n",
       "      <td>yes</td>\n",
       "      <td>1.0</td>\n",
       "      <td>4/16/14 13:23</td>\n",
       "      <td>...</td>\n",
       "      <td>https://pbs.twimg.com/profile_images/564094871...</td>\n",
       "      <td>0</td>\n",
       "      <td>0</td>\n",
       "      <td>Watching Neighbours on Sky+ catching up with t...</td>\n",
       "      <td>NaN</td>\n",
       "      <td>31462</td>\n",
       "      <td>10/26/15 12:40</td>\n",
       "      <td>6.587300e+17</td>\n",
       "      <td>NaN</td>\n",
       "      <td>NaN</td>\n",
       "    </tr>\n",
       "  </tbody>\n",
       "</table>\n",
       "<p>5 rows × 26 columns</p>\n",
       "</div>"
      ],
      "text/plain": [
       "    _unit_id  _golden _unit_state  _trusted_judgments _last_judgment_at  \\\n",
       "0  815719226    False   finalized                   3    10/26/15 23:24   \n",
       "1  815719227    False   finalized                   3    10/26/15 23:30   \n",
       "2  815719228    False   finalized                   3    10/26/15 23:33   \n",
       "3  815719229    False   finalized                   3    10/26/15 23:10   \n",
       "4  815719230    False   finalized                   3     10/27/15 1:15   \n",
       "\n",
       "   gender  gender:confidence profile_yn  profile_yn:confidence  \\\n",
       "0    male             1.0000        yes                    1.0   \n",
       "1    male             1.0000        yes                    1.0   \n",
       "2    male             0.6625        yes                    1.0   \n",
       "3    male             1.0000        yes                    1.0   \n",
       "4  female             1.0000        yes                    1.0   \n",
       "\n",
       "          created  ...                                       profileimage  \\\n",
       "0    12/5/13 1:48  ...  https://pbs.twimg.com/profile_images/414342229...   \n",
       "1   10/1/12 13:51  ...  https://pbs.twimg.com/profile_images/539604221...   \n",
       "2  11/28/14 11:30  ...  https://pbs.twimg.com/profile_images/657330418...   \n",
       "3   6/11/09 22:39  ...  https://pbs.twimg.com/profile_images/259703936...   \n",
       "4   4/16/14 13:23  ...  https://pbs.twimg.com/profile_images/564094871...   \n",
       "\n",
       "   retweet_count sidebar_color  \\\n",
       "0              0        FFFFFF   \n",
       "1              0        C0DEED   \n",
       "2              1        C0DEED   \n",
       "3              0        C0DEED   \n",
       "4              0             0   \n",
       "\n",
       "                                                text tweet_coord tweet_count  \\\n",
       "0  Robbie E Responds To Critics After Win Against...         NaN      110964   \n",
       "1  ���It felt like they were my friends and I was...         NaN        7471   \n",
       "2  i absolutely adore when louis starts the songs...         NaN        5617   \n",
       "3  Hi @JordanSpieth - Looking at the url - do you...         NaN        1693   \n",
       "4  Watching Neighbours on Sky+ catching up with t...         NaN       31462   \n",
       "\n",
       "    tweet_created      tweet_id   tweet_location               user_timezone  \n",
       "0  10/26/15 12:40  6.587300e+17  main; @Kan1shk3                     Chennai  \n",
       "1  10/26/15 12:40  6.587300e+17              NaN  Eastern Time (US & Canada)  \n",
       "2  10/26/15 12:40  6.587300e+17           clcncl                    Belgrade  \n",
       "3  10/26/15 12:40  6.587300e+17    Palo Alto, CA  Pacific Time (US & Canada)  \n",
       "4  10/26/15 12:40  6.587300e+17              NaN                         NaN  \n",
       "\n",
       "[5 rows x 26 columns]"
      ]
     },
     "execution_count": 3,
     "metadata": {},
     "output_type": "execute_result"
    }
   ],
   "source": [
    "df.head()"
   ]
  },
  {
   "cell_type": "markdown",
   "id": "e7afc37b",
   "metadata": {},
   "source": [
    "**EDA and Cleaning**"
   ]
  },
  {
   "cell_type": "code",
   "execution_count": 4,
   "id": "d1a95335",
   "metadata": {},
   "outputs": [
    {
     "data": {
      "text/plain": [
       "Index(['_unit_id', '_golden', '_unit_state', '_trusted_judgments',\n",
       "       '_last_judgment_at', 'gender', 'gender:confidence', 'profile_yn',\n",
       "       'profile_yn:confidence', 'created', 'description', 'fav_number',\n",
       "       'gender_gold', 'link_color', 'name', 'profile_yn_gold', 'profileimage',\n",
       "       'retweet_count', 'sidebar_color', 'text', 'tweet_coord', 'tweet_count',\n",
       "       'tweet_created', 'tweet_id', 'tweet_location', 'user_timezone'],\n",
       "      dtype='object')"
      ]
     },
     "execution_count": 4,
     "metadata": {},
     "output_type": "execute_result"
    }
   ],
   "source": [
    "df.columns"
   ]
  },
  {
   "cell_type": "code",
   "execution_count": 5,
   "id": "f31c55fd",
   "metadata": {},
   "outputs": [
    {
     "name": "stdout",
     "output_type": "stream",
     "text": [
      "<class 'pandas.core.frame.DataFrame'>\n",
      "RangeIndex: 20050 entries, 0 to 20049\n",
      "Data columns (total 26 columns):\n",
      " #   Column                 Non-Null Count  Dtype  \n",
      "---  ------                 --------------  -----  \n",
      " 0   _unit_id               20050 non-null  int64  \n",
      " 1   _golden                20050 non-null  bool   \n",
      " 2   _unit_state            20050 non-null  object \n",
      " 3   _trusted_judgments     20050 non-null  int64  \n",
      " 4   _last_judgment_at      20000 non-null  object \n",
      " 5   gender                 19953 non-null  object \n",
      " 6   gender:confidence      20024 non-null  float64\n",
      " 7   profile_yn             20050 non-null  object \n",
      " 8   profile_yn:confidence  20050 non-null  float64\n",
      " 9   created                20050 non-null  object \n",
      " 10  description            16306 non-null  object \n",
      " 11  fav_number             20050 non-null  int64  \n",
      " 12  gender_gold            50 non-null     object \n",
      " 13  link_color             20050 non-null  object \n",
      " 14  name                   20050 non-null  object \n",
      " 15  profile_yn_gold        50 non-null     object \n",
      " 16  profileimage           20050 non-null  object \n",
      " 17  retweet_count          20050 non-null  int64  \n",
      " 18  sidebar_color          20050 non-null  object \n",
      " 19  text                   20050 non-null  object \n",
      " 20  tweet_coord            159 non-null    object \n",
      " 21  tweet_count            20050 non-null  int64  \n",
      " 22  tweet_created          20050 non-null  object \n",
      " 23  tweet_id               20050 non-null  float64\n",
      " 24  tweet_location         12566 non-null  object \n",
      " 25  user_timezone          12252 non-null  object \n",
      "dtypes: bool(1), float64(3), int64(5), object(17)\n",
      "memory usage: 3.8+ MB\n"
     ]
    }
   ],
   "source": [
    "df.info()"
   ]
  },
  {
   "cell_type": "code",
   "execution_count": 6,
   "id": "6f812d78",
   "metadata": {},
   "outputs": [],
   "source": [
    "#Discarding irrelevant data, unusable data and data with little non-null values\n",
    "df = df.drop(['_unit_id','description','gender_gold','name','profile_yn_gold','profileimage','text','tweet_coord','tweet_id','tweet_location','user_timezone'], axis=1)"
   ]
  },
  {
   "cell_type": "code",
   "execution_count": 7,
   "id": "1071612b",
   "metadata": {},
   "outputs": [
    {
     "data": {
      "text/plain": [
       "female    6700\n",
       "male      6194\n",
       "Name: gender, dtype: int64"
      ]
     },
     "execution_count": 7,
     "metadata": {},
     "output_type": "execute_result"
    }
   ],
   "source": [
    "df['gender']=df['gender'].replace(['unknown','brand'], np.NaN)\n",
    "df=df.drop(df[df['gender'].isna()].index).reset_index(drop=True)\n",
    "df['gender'].value_counts()"
   ]
  },
  {
   "cell_type": "code",
   "execution_count": 8,
   "id": "45a1f76d",
   "metadata": {
    "scrolled": false
   },
   "outputs": [
    {
     "name": "stdout",
     "output_type": "stream",
     "text": [
      "<class 'pandas.core.frame.DataFrame'>\n",
      "RangeIndex: 12858 entries, 0 to 12857\n",
      "Data columns (total 24 columns):\n",
      " #   Column                 Non-Null Count  Dtype  \n",
      "---  ------                 --------------  -----  \n",
      " 0   _golden                12858 non-null  bool   \n",
      " 1   _unit_state            12858 non-null  object \n",
      " 2   _trusted_judgments     12858 non-null  int64  \n",
      " 3   gender                 12858 non-null  object \n",
      " 4   gender:confidence      12858 non-null  float64\n",
      " 5   profile_yn             12858 non-null  object \n",
      " 6   profile_yn:confidence  12858 non-null  float64\n",
      " 7   fav_number             12858 non-null  int64  \n",
      " 8   link_color             12858 non-null  object \n",
      " 9   retweet_count          12858 non-null  int64  \n",
      " 10  sidebar_color          12858 non-null  object \n",
      " 11  tweet_count            12858 non-null  int64  \n",
      " 12  last_judgment_year     12858 non-null  int64  \n",
      " 13  last_judgment_month    12858 non-null  int64  \n",
      " 14  last_judgment_day      12858 non-null  int64  \n",
      " 15  last_judgment_hour     12858 non-null  int64  \n",
      " 16  created_year           12858 non-null  int64  \n",
      " 17  created_month          12858 non-null  int64  \n",
      " 18  created_day            12858 non-null  int64  \n",
      " 19  created_hour           12858 non-null  int64  \n",
      " 20  tweet_year             12858 non-null  int64  \n",
      " 21  tweet_month            12858 non-null  int64  \n",
      " 22  tweet_day              12858 non-null  int64  \n",
      " 23  tweet_hour             12858 non-null  int64  \n",
      "dtypes: bool(1), float64(2), int64(16), object(5)\n",
      "memory usage: 2.3+ MB\n"
     ]
    }
   ],
   "source": [
    "df = df.drop(df[df['_last_judgment_at'].isna()].index).reset_index(drop=True)\n",
    "df['_last_judgment_at'] = pd.to_datetime(df['_last_judgment_at'])\n",
    "df['created'] = pd.to_datetime(df['created'])\n",
    "df['tweet_created'] = pd.to_datetime(df['tweet_created'])\n",
    "\n",
    "df['last_judgment_year'] = df['_last_judgment_at'].apply(lambda x: x.year)\n",
    "df['last_judgment_month'] = df['_last_judgment_at'].apply(lambda x: x.month)\n",
    "df['last_judgment_day'] = df['_last_judgment_at'].apply(lambda x: x.day)\n",
    "df['last_judgment_hour'] = df['_last_judgment_at'].apply(lambda x: x.hour)\n",
    "\n",
    "df['created_year'] = df['created'].apply(lambda x: x.year)\n",
    "df['created_month'] = df['created'].apply(lambda x: x.month)\n",
    "df['created_day'] = df['created'].apply(lambda x: x.day)\n",
    "df['created_hour'] = df['created'].apply(lambda x: x.hour)\n",
    "\n",
    "df['tweet_year'] = df['tweet_created'].apply(lambda x: x.year)\n",
    "df['tweet_month'] = df['tweet_created'].apply(lambda x: x.month)\n",
    "df['tweet_day'] = df['tweet_created'].apply(lambda x: x.day)\n",
    "df['tweet_hour'] = df['tweet_created'].apply(lambda x: x.hour)\n",
    "\n",
    "df = df.drop(['_last_judgment_at','created','tweet_created'], axis=1)\n",
    "df.info()"
   ]
  },
  {
   "cell_type": "code",
   "execution_count": 9,
   "id": "977b225b",
   "metadata": {},
   "outputs": [
    {
     "data": {
      "text/plain": [
       "Index(['_golden', '_unit_state', '_trusted_judgments', 'gender',\n",
       "       'gender:confidence', 'profile_yn', 'profile_yn:confidence',\n",
       "       'fav_number', 'retweet_count', 'tweet_count', 'last_judgment_year',\n",
       "       'last_judgment_month', 'last_judgment_day', 'last_judgment_hour',\n",
       "       'created_year', 'created_month', 'created_day', 'created_hour',\n",
       "       'tweet_year', 'tweet_month', 'tweet_day', 'tweet_hour', 'link_red',\n",
       "       'link_green', 'link_blue', 'sidebar_red', 'sidebar_green',\n",
       "       'sidebar_blue'],\n",
       "      dtype='object')"
      ]
     },
     "execution_count": 9,
     "metadata": {},
     "output_type": "execute_result"
    }
   ],
   "source": [
    "#get color in hex and return RGB values in decimal\n",
    "def hextodec(value):\n",
    "    try:\n",
    "        return int(value, 16)\n",
    "    except:\n",
    "        return 0\n",
    "\n",
    "def getRGB(color):\n",
    "    r=color.apply(lambda x: hextodec(x[0:2]))\n",
    "    g=color.apply(lambda x: hextodec(x[2:4]))\n",
    "    b=color.apply(lambda x: hextodec(x[4:6]))\n",
    "    return r, g, b\n",
    "\n",
    "df['link_red'], df['link_green'], df['link_blue'] = getRGB(df['link_color'])\n",
    "df['sidebar_red'], df['sidebar_green'], df['sidebar_blue'] = getRGB(df['sidebar_color'])\n",
    "df = df.drop(['link_color','sidebar_color'], axis=1).reset_index(drop=True)\n",
    "df.columns"
   ]
  },
  {
   "cell_type": "code",
   "execution_count": 10,
   "id": "5a22159e",
   "metadata": {
    "scrolled": false
   },
   "outputs": [
    {
     "name": "stdout",
     "output_type": "stream",
     "text": [
      "False    12858\n",
      "Name: _golden, dtype: int64\n",
      "finalized    12858\n",
      "Name: _unit_state, dtype: int64\n",
      "3    12858\n",
      "Name: _trusted_judgments, dtype: int64\n",
      "yes    12858\n",
      "Name: profile_yn, dtype: int64\n",
      "2015    12858\n",
      "Name: last_judgment_year, dtype: int64\n",
      "10    12858\n",
      "Name: last_judgment_month, dtype: int64\n",
      "2015    12858\n",
      "Name: tweet_year, dtype: int64\n",
      "10    12858\n",
      "Name: tweet_month, dtype: int64\n",
      "26    12858\n",
      "Name: tweet_day, dtype: int64\n"
     ]
    }
   ],
   "source": [
    "#Remove features with only one value\n",
    "for i in df:\n",
    "    if(len(df[i].unique())==1):\n",
    "        print(df[i].value_counts())\n",
    "        df=df.drop([i], axis=1)"
   ]
  },
  {
   "cell_type": "code",
   "execution_count": 11,
   "id": "f7957173",
   "metadata": {},
   "outputs": [
    {
     "name": "stdout",
     "output_type": "stream",
     "text": [
      "<class 'pandas.core.frame.DataFrame'>\n",
      "RangeIndex: 12858 entries, 0 to 12857\n",
      "Data columns (total 19 columns):\n",
      " #   Column                 Non-Null Count  Dtype  \n",
      "---  ------                 --------------  -----  \n",
      " 0   gender                 12858 non-null  int64  \n",
      " 1   gender:confidence      12858 non-null  float64\n",
      " 2   profile_yn:confidence  12858 non-null  float64\n",
      " 3   fav_number             12858 non-null  int64  \n",
      " 4   retweet_count          12858 non-null  int64  \n",
      " 5   tweet_count            12858 non-null  int64  \n",
      " 6   last_judgment_day      12858 non-null  int64  \n",
      " 7   last_judgment_hour     12858 non-null  int64  \n",
      " 8   created_year           12858 non-null  int64  \n",
      " 9   created_month          12858 non-null  int64  \n",
      " 10  created_day            12858 non-null  int64  \n",
      " 11  created_hour           12858 non-null  int64  \n",
      " 12  tweet_hour             12858 non-null  int64  \n",
      " 13  link_red               12858 non-null  int64  \n",
      " 14  link_green             12858 non-null  int64  \n",
      " 15  link_blue              12858 non-null  int64  \n",
      " 16  sidebar_red            12858 non-null  int64  \n",
      " 17  sidebar_green          12858 non-null  int64  \n",
      " 18  sidebar_blue           12858 non-null  int64  \n",
      "dtypes: float64(2), int64(17)\n",
      "memory usage: 1.9 MB\n"
     ]
    }
   ],
   "source": [
    "label_map = {'female': 0, 'male': 1}\n",
    "df['gender'] = df['gender'].replace(label_map)\n",
    "df.info()"
   ]
  },
  {
   "cell_type": "code",
   "execution_count": 12,
   "id": "8143ecfe",
   "metadata": {
    "scrolled": true
   },
   "outputs": [
    {
     "data": {
      "text/plain": [
       "Index(['gender', 'gender:confidence', 'profile_yn:confidence', 'fav_number',\n",
       "       'retweet_count', 'tweet_count', 'last_judgment_day',\n",
       "       'last_judgment_hour', 'created_year', 'created_month', 'created_day',\n",
       "       'created_hour', 'tweet_hour', 'link_red', 'link_green', 'link_blue',\n",
       "       'sidebar_red', 'sidebar_green', 'sidebar_blue'],\n",
       "      dtype='object')"
      ]
     },
     "execution_count": 12,
     "metadata": {},
     "output_type": "execute_result"
    }
   ],
   "source": [
    "df.columns"
   ]
  },
  {
   "cell_type": "markdown",
   "id": "0b095019",
   "metadata": {},
   "source": [
    "**Arrange and normalize features**"
   ]
  },
  {
   "cell_type": "code",
   "execution_count": 13,
   "id": "dfe9d649",
   "metadata": {},
   "outputs": [],
   "source": [
    "X = df[['gender:confidence', 'profile_yn:confidence', 'fav_number',\n",
    "       'retweet_count', 'tweet_count', 'last_judgment_day',\n",
    "       'last_judgment_hour', 'created_year', 'created_month', 'created_day',\n",
    "       'created_hour', 'tweet_hour', 'link_red', 'link_green', 'link_blue',\n",
    "       'sidebar_red', 'sidebar_green', 'sidebar_blue']]\n",
    "Y = df[['gender']]"
   ]
  },
  {
   "cell_type": "code",
   "execution_count": 14,
   "id": "ff999748",
   "metadata": {},
   "outputs": [],
   "source": [
    "normalized_X = preprocessing.StandardScaler().fit_transform(X)"
   ]
  },
  {
   "cell_type": "code",
   "execution_count": 15,
   "id": "e91e799a",
   "metadata": {},
   "outputs": [],
   "source": [
    "X_bal, Y_bal = RandomUnderSampler().fit_resample(normalized_X, Y)"
   ]
  },
  {
   "cell_type": "code",
   "execution_count": 16,
   "id": "68453e21",
   "metadata": {
    "scrolled": true
   },
   "outputs": [
    {
     "data": {
      "text/plain": [
       "0    6173\n",
       "1    6173\n",
       "Name: gender, dtype: int64"
      ]
     },
     "execution_count": 16,
     "metadata": {},
     "output_type": "execute_result"
    }
   ],
   "source": [
    "Y_bal['gender'].value_counts()"
   ]
  },
  {
   "cell_type": "code",
   "execution_count": 17,
   "id": "8235b498",
   "metadata": {
    "scrolled": false
   },
   "outputs": [],
   "source": [
    "X_train, X_test, Y_train, Y_test = train_test_split(X_bal, Y_bal, train_size=0.75)"
   ]
  },
  {
   "cell_type": "markdown",
   "id": "56b7c05f",
   "metadata": {},
   "source": [
    "## Scikit-Learn NN model\n",
    "* MultiLayer Perceptron\n",
    "* Activation function: ReLU (Default)\n",
    "* Solver : adam (Default)"
   ]
  },
  {
   "cell_type": "code",
   "execution_count": 18,
   "id": "2a201e32",
   "metadata": {},
   "outputs": [],
   "source": [
    "mlp = MLPClassifier(hidden_layer_sizes=(25,7), max_iter=400)"
   ]
  },
  {
   "cell_type": "code",
   "execution_count": 19,
   "id": "f22f33d1",
   "metadata": {
    "scrolled": false
   },
   "outputs": [
    {
     "data": {
      "text/plain": [
       "MLPClassifier(hidden_layer_sizes=(25, 7), max_iter=400)"
      ]
     },
     "execution_count": 19,
     "metadata": {},
     "output_type": "execute_result"
    }
   ],
   "source": [
    "mlp.fit(X_train, Y_train.values.ravel())"
   ]
  },
  {
   "cell_type": "code",
   "execution_count": 20,
   "id": "3e251cd9",
   "metadata": {},
   "outputs": [
    {
     "data": {
      "text/plain": [
       "0.6122448979591837"
      ]
     },
     "execution_count": 20,
     "metadata": {},
     "output_type": "execute_result"
    }
   ],
   "source": [
    "Y_pred_nn = mlp.predict(X_test)\n",
    "accuracy_score(Y_test, Y_pred_nn)"
   ]
  },
  {
   "cell_type": "markdown",
   "id": "41d99a9b",
   "metadata": {},
   "source": [
    "## Tensorflow model\n",
    "* Activation function : ReLu for hidden layers, Softmax for Output\n",
    "* Loss function: Binary Cross Entropy\n",
    "* Optimizer : adam"
   ]
  },
  {
   "cell_type": "code",
   "execution_count": 21,
   "id": "1738d326",
   "metadata": {},
   "outputs": [],
   "source": [
    "model = keras.Sequential()\n",
    "model.add(Input(shape=(18,)),)\n",
    "model.add(Dense(22, activation='relu'),)\n",
    "model.add(Dense(28, activation='relu'),)\n",
    "model.add(Dense(18, activation='relu'),)\n",
    "model.add(Dense(2, activation='softmax'),)"
   ]
  },
  {
   "cell_type": "code",
   "execution_count": 22,
   "id": "36b75e9a",
   "metadata": {},
   "outputs": [],
   "source": [
    "model.compile(optimizer='adam', loss='binary_crossentropy',)"
   ]
  },
  {
   "cell_type": "code",
   "execution_count": 23,
   "id": "bab0546c",
   "metadata": {
    "scrolled": false
   },
   "outputs": [
    {
     "data": {
      "text/plain": [
       "<tensorflow.python.keras.callbacks.History at 0x27f0a6df580>"
      ]
     },
     "execution_count": 23,
     "metadata": {},
     "output_type": "execute_result"
    }
   ],
   "source": [
    "model.fit(X_train, Y_train, epochs=30, verbose=False)"
   ]
  },
  {
   "cell_type": "code",
   "execution_count": 24,
   "id": "47e02fbd",
   "metadata": {},
   "outputs": [
    {
     "data": {
      "text/plain": [
       "0.6931466460227966"
      ]
     },
     "execution_count": 24,
     "metadata": {},
     "output_type": "execute_result"
    }
   ],
   "source": [
    "model.evaluate(X_test, Y_test, verbose=False)"
   ]
  },
  {
   "cell_type": "code",
   "execution_count": null,
   "id": "5641cd0e",
   "metadata": {},
   "outputs": [],
   "source": []
  }
 ],
 "metadata": {
  "kernelspec": {
   "display_name": "Python 3",
   "language": "python",
   "name": "python3"
  },
  "language_info": {
   "codemirror_mode": {
    "name": "ipython",
    "version": 3
   },
   "file_extension": ".py",
   "mimetype": "text/x-python",
   "name": "python",
   "nbconvert_exporter": "python",
   "pygments_lexer": "ipython3",
   "version": "3.8.10"
  }
 },
 "nbformat": 4,
 "nbformat_minor": 5
}
